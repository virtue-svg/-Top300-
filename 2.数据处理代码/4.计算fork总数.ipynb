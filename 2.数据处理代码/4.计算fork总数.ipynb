{
 "cells": [
  {
   "cell_type": "code",
   "execution_count": 4,
   "metadata": {},
   "outputs": [
    {
     "name": "stdout",
     "output_type": "stream",
     "text": [
      "表 fork_total_metrics 创建成功\n"
     ]
    }
   ],
   "source": [
    "# 同stars指标情况相同\n",
    "# 希望能够计算每个项目的fork总数\n",
    "\n",
    "import pymysql\n",
    "import json\n",
    "\n",
    "# 连接到 MySQL 数据库\n",
    "conn = pymysql.connect(\n",
    "    host='localhost',\n",
    "    user='root',\n",
    "    password='cptbtptp789',\n",
    "    database='project_data',\n",
    "    charset='utf8mb4'\n",
    ")\n",
    "\n",
    "cursor = conn.cursor()\n",
    "\n",
    "# 创建新表 fork_total_metrics\n",
    "create_table_query = \"\"\"\n",
    "CREATE TABLE IF NOT EXISTS fork_total_metrics (\n",
    "    id INT AUTO_INCREMENT PRIMARY KEY,\n",
    "    project_name VARCHAR(255) NOT NULL,\n",
    "    total_forks INT\n",
    ")\n",
    "\"\"\"\n",
    "try:\n",
    "    cursor.execute(create_table_query)\n",
    "    print(\"表 fork_total_metrics 创建成功\")\n",
    "except pymysql.Error as e:\n",
    "    print(f\"创建表 fork_total_metrics 时出错: {e}\")\n",
    "\n",
    "# 从 fork_metrics 表中查询数据\n",
    "select_query = \"SELECT project_name, metric_value FROM technical_fork_metrics\"\n",
    "cursor.execute(select_query)\n",
    "\n",
    "# 获取查询结果\n",
    "results = cursor.fetchall()\n",
    "\n",
    "# 处理并插入数据到新表\n",
    "for row in results:\n",
    "    project_name, metric_value_str = row\n",
    "    metric_value = json.loads(metric_value_str)\n",
    "    total_forks = 0\n",
    "    for value in metric_value.values():\n",
    "        if isinstance(value, (int, float)):\n",
    "            total_forks += value\n",
    "    insert_query = \"INSERT INTO fork_total_metrics (project_name, total_forks) VALUES (%s, %s)\"\n",
    "    try:\n",
    "        cursor.execute(insert_query, (project_name, total_forks))\n",
    "        conn.commit()\n",
    "    except pymysql.Error as e:\n",
    "        print(f\"插入数据时出错: {e}\")\n",
    "\n",
    "# 关闭连接\n",
    "cursor.close()\n",
    "conn.close()"
   ]
  }
 ],
 "metadata": {
  "kernelspec": {
   "display_name": "base",
   "language": "python",
   "name": "python3"
  },
  "language_info": {
   "codemirror_mode": {
    "name": "ipython",
    "version": 3
   },
   "file_extension": ".py",
   "mimetype": "text/x-python",
   "name": "python",
   "nbconvert_exporter": "python",
   "pygments_lexer": "ipython3",
   "version": "3.11.7"
  }
 },
 "nbformat": 4,
 "nbformat_minor": 2
}
