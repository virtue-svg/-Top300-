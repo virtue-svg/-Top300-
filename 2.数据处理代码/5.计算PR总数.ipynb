{
 "cells": [
  {
   "cell_type": "code",
   "execution_count": 1,
   "metadata": {},
   "outputs": [
    {
     "name": "stdout",
     "output_type": "stream",
     "text": [
      "表 participants_total_metrics 创建成功\n",
      "表 change_requests_total_metrics 创建成功\n"
     ]
    }
   ],
   "source": [
    "# 同stars指标情况相同\n",
    "# 希望能够计算每个项目的PR总数\n",
    "\n",
    "import pymysql\n",
    "import json\n",
    "\n",
    "\n",
    "# 连接到 MySQL 数据库\n",
    "conn = pymysql.connect(\n",
    "    host='localhost',\n",
    "    user='root',\n",
    "    password='cptbtptp789',\n",
    "    database='project_data',\n",
    "    charset='utf8mb4'\n",
    ")\n",
    "\n",
    "cursor = conn.cursor()\n",
    "\n",
    "# 计算 change_requests 总数并创建新表\n",
    "# 创建新表 change_requests_total_metrics\n",
    "create_table_query_change_requests = \"\"\"\n",
    "CREATE TABLE IF NOT EXISTS change_requests_total_metrics (\n",
    "    id INT AUTO_INCREMENT PRIMARY KEY,\n",
    "    project_name VARCHAR(255) NOT NULL,\n",
    "    total_change_requests INT\n",
    ")\n",
    "\"\"\"\n",
    "try:\n",
    "    cursor.execute(create_table_query_change_requests)\n",
    "    print(\"表 change_requests_total_metrics 创建成功\")\n",
    "except pymysql.Error as e:\n",
    "    print(f\"创建表 change_requests_total_metrics 时出错: {e}\")\n",
    "\n",
    "# 从 change_requests_metrics 表中查询数据\n",
    "select_query_change_requests = \"SELECT project_name, metric_value FROM change_requests_metrics\"\n",
    "cursor.execute(select_query_change_requests)\n",
    "\n",
    "# 获取查询结果\n",
    "results_change_requests = cursor.fetchall()\n",
    "\n",
    "# 处理并插入数据到新表\n",
    "for row in results_change_requests:\n",
    "    project_name, metric_value_str = row\n",
    "    metric_value = json.loads(metric_value_str)\n",
    "    total_change_requests = 0\n",
    "    for value in metric_value.values():\n",
    "        if isinstance(value, (int, float)):\n",
    "            total_change_requests += value\n",
    "    insert_query_change_requests = \"INSERT INTO change_requests_total_metrics (project_name, total_change_requests) VALUES (%s, %s)\"\n",
    "    try:\n",
    "        cursor.execute(insert_query_change_requests, (project_name, total_change_requests))\n",
    "        conn.commit()\n",
    "    except pymysql.Error as e:\n",
    "        print(f\"插入数据到 change_requests_total_metrics 表时出错: {e}\")\n",
    "\n",
    "\n",
    "# 关闭连接\n",
    "cursor.close()\n",
    "conn.close()\n"
   ]
  }
 ],
 "metadata": {
  "kernelspec": {
   "display_name": "base",
   "language": "python",
   "name": "python3"
  },
  "language_info": {
   "codemirror_mode": {
    "name": "ipython",
    "version": 3
   },
   "file_extension": ".py",
   "mimetype": "text/x-python",
   "name": "python",
   "nbconvert_exporter": "python",
   "pygments_lexer": "ipython3",
   "version": "3.11.7"
  }
 },
 "nbformat": 4,
 "nbformat_minor": 2
}
