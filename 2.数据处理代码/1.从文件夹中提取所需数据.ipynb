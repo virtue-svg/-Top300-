{
 "cells": [
  {
   "cell_type": "code",
   "execution_count": 2,
   "metadata": {},
   "outputs": [
    {
     "name": "stdout",
     "output_type": "stream",
     "text": [
      "表 filtered_project_metrics 创建成功\n"
     ]
    }
   ],
   "source": [
    "# 本次所用的数据是 “top300项目仓库的Opendigger指标数据”\n",
    "# 由于每个项目可能对应多个仓库，且担心部分指标值存在缺漏\n",
    "# 为了保证最终可视化的一致性，先对项目进行筛选\n",
    "# 选出只有1个仓库，且具有所需指标值的项目\n",
    "# 将这些项目的数据添加到总表中\n",
    "\n",
    "import os\n",
    "import json\n",
    "import pymysql\n",
    "\n",
    "# 连接到 MySQL 数据库 (使用时需要更新自身的MySQL信息)\n",
    "conn = pymysql.connect(\n",
    "    host='localhost',\n",
    "    user='root',\n",
    "    password='cptbtptp789',\n",
    "    database='project_data',\n",
    "    charset='utf8mb4'\n",
    ")\n",
    "\n",
    "cursor = conn.cursor()\n",
    "\n",
    "# 创建新表用于存储筛选后的数据\n",
    "create_table_query = \"\"\"\n",
    "CREATE TABLE IF NOT EXISTS filtered_project_metrics (\n",
    "    id INT AUTO_INCREMENT PRIMARY KEY,\n",
    "    project_name VARCHAR(255) NOT NULL,\n",
    "    metric_name VARCHAR(255) NOT NULL,\n",
    "    metric_value JSON\n",
    ")\n",
    "\"\"\"\n",
    "try:\n",
    "    cursor.execute(create_table_query)\n",
    "    print(\"表 filtered_project_metrics 创建成功\")\n",
    "except pymysql.Error as e:\n",
    "    print(f\"创建表时出错: {e}\")\n",
    "\n",
    "\n",
    "# 需要检查的指标文件列表\n",
    "required_files = [\n",
    "   'stars.json', 'technical_fork.json', 'participants.json', 'openrank.json',\n",
    "    'activity.json', 'attention.json', 'change_requests.json', 'issue_comments.json',\n",
    "    'code_change_lines_sum.json'\n",
    "]\n",
    "\n",
    "\n",
    "# 遍历 300 个文件夹\n",
    "base_dir = 'C:/Users/22187/Desktop/神探/Python/top_300_metrics/top_300_metrics'  # 请替换为实际的文件夹路径\n",
    "for top_level_folder in os.listdir(base_dir):\n",
    "    top_level_path = os.path.join(base_dir, top_level_folder)\n",
    "    if os.path.isdir(top_level_path):\n",
    "        # 确保顶级文件夹下只有一个二级文件夹  (即检查项目是否只有一个仓库)\n",
    "        second_level_folders = [f for f in os.listdir(top_level_path) if os.path.isdir(os.path.join(top_level_path, f))]\n",
    "        if len(second_level_folders) == 1:\n",
    "            second_level_path = os.path.join(top_level_path, second_level_folders[0])\n",
    "            # 检查二级文件夹中是否包含所有必需的指标文件 \n",
    "            existing_files = os.listdir(second_level_path)\n",
    "            if all(file in existing_files for file in required_files):\n",
    "                enterprise_name = top_level_folder\n",
    "                for json_file in required_files:\n",
    "                    json_path = os.path.join(second_level_path, json_file)\n",
    "                    metric_name = os.path.splitext(json_file)[0]\n",
    "                    with open(json_path, 'r', encoding='utf-8') as f:\n",
    "                        metric_value = json.load(f)\n",
    "                    # 插入数据到 MySQL\n",
    "                    try:\n",
    "                        sql = \"INSERT INTO filtered_project_metrics (project_name, metric_name, metric_value) VALUES (%s, %s, %s)\"\n",
    "                        cursor.execute(sql, (enterprise_name, metric_name, json.dumps(metric_value)))\n",
    "                        conn.commit()\n",
    "                    except pymysql.Error as e:\n",
    "                        print(f\"Error inserting data for {enterprise_name} - {metric_name}: {e}\")\n",
    "                    except json.JSONDecodeError as e:\n",
    "                        print(f\"Error decoding JSON file {json_path}: {e}\")\n",
    "\n",
    "\n",
    "# 关闭连接\n",
    "cursor.close()\n",
    "conn.close()\n",
    "\n"
   ]
  }
 ],
 "metadata": {
  "kernelspec": {
   "display_name": "base",
   "language": "python",
   "name": "python3"
  },
  "language_info": {
   "codemirror_mode": {
    "name": "ipython",
    "version": 3
   },
   "file_extension": ".py",
   "mimetype": "text/x-python",
   "name": "python",
   "nbconvert_exporter": "python",
   "pygments_lexer": "ipython3",
   "version": "3.11.7"
  }
 },
 "nbformat": 4,
 "nbformat_minor": 2
}
