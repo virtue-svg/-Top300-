{
 "cells": [
  {
   "cell_type": "code",
   "execution_count": 1,
   "metadata": {},
   "outputs": [
    {
     "name": "stdout",
     "output_type": "stream",
     "text": [
      "表 stars_metrics 创建成功\n",
      "数据已成功插入到 stars_metrics 表中\n",
      "表 technical_fork_metrics 创建成功\n",
      "数据已成功插入到 technical_fork_metrics 表中\n",
      "表 participants_metrics 创建成功\n",
      "数据已成功插入到 participants_metrics 表中\n",
      "表 openrank_metrics 创建成功\n",
      "数据已成功插入到 openrank_metrics 表中\n",
      "表 activity_metrics 创建成功\n",
      "数据已成功插入到 activity_metrics 表中\n",
      "表 attention_metrics 创建成功\n",
      "数据已成功插入到 attention_metrics 表中\n",
      "表 change_requests_metrics 创建成功\n",
      "数据已成功插入到 change_requests_metrics 表中\n",
      "表 issue_comments_metrics 创建成功\n",
      "数据已成功插入到 issue_comments_metrics 表中\n",
      "表 code_change_lines_sum_metrics 创建成功\n",
      "数据已成功插入到 code_change_lines_sum_metrics 表中\n"
     ]
    }
   ],
   "source": [
    "# 总表中已经保存了满足条件的项目的数据\n",
    "# 对于每个所需指标，创造一张数据表并插入相关数据\n",
    "\n",
    "import pymysql\n",
    "import json\n",
    "\n",
    "# 连接到 MySQL 数据库\n",
    "conn = pymysql.connect(\n",
    "    host='localhost',\n",
    "    user='root',\n",
    "    password='cptbtptp789',\n",
    "    database='project_data',\n",
    "    charset='utf8mb4'\n",
    ")\n",
    "\n",
    "cursor = conn.cursor()\n",
    "\n",
    "# 要提取的几个指标名称\n",
    "required_metrics = [\n",
    "   'stars', 'technical_fork', 'participants', 'openrank',\n",
    "    'activity', 'attention', 'change_requests', 'issue_comments',\n",
    "    'code_change_lines_sum'\n",
    "]\n",
    "\n",
    "\n",
    "# 为每个指标创建数据表并插入数据\n",
    "for metric in required_metrics:\n",
    "    # 创建表\n",
    "    create_table_query = f\"\"\"\n",
    "    CREATE TABLE IF NOT EXISTS {metric}_metrics (\n",
    "        id INT AUTO_INCREMENT PRIMARY KEY,\n",
    "        project_name VARCHAR(255) NOT NULL,\n",
    "        metric_value JSON\n",
    "    )\n",
    "    \"\"\"\n",
    "    try:\n",
    "        cursor.execute(create_table_query)\n",
    "        print(f\"表 {metric}_metrics 创建成功\")\n",
    "    except pymysql.Error as e:\n",
    "        print(f\"创建表 {metric}_metrics 时出错: {e}\")\n",
    "\n",
    "    # 插入数据\n",
    "    insert_query = f\"INSERT INTO {metric}_metrics (project_name, metric_value) \\\n",
    "                    SELECT project_name, metric_value \\\n",
    "                    FROM filtered_project_metrics \\\n",
    "                    WHERE metric_name = %s\"\n",
    "    try:\n",
    "        cursor.execute(insert_query, metric)\n",
    "        conn.commit()\n",
    "        print(f\"数据已成功插入到 {metric}_metrics 表中\")\n",
    "    except pymysql.Error as e:\n",
    "        print(f\"插入数据到 {metric}_metrics 表时出错: {e}\")\n",
    "\n",
    "\n",
    "# 关闭连接\n",
    "cursor.close()\n",
    "conn.close()"
   ]
  }
 ],
 "metadata": {
  "kernelspec": {
   "display_name": "base",
   "language": "python",
   "name": "python3"
  },
  "language_info": {
   "codemirror_mode": {
    "name": "ipython",
    "version": 3
   },
   "file_extension": ".py",
   "mimetype": "text/x-python",
   "name": "python",
   "nbconvert_exporter": "python",
   "pygments_lexer": "ipython3",
   "version": "3.11.7"
  }
 },
 "nbformat": 4,
 "nbformat_minor": 2
}
