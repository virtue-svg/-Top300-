{
 "cells": [
  {
   "cell_type": "code",
   "execution_count": 3,
   "metadata": {},
   "outputs": [
    {
     "name": "stdout",
     "output_type": "stream",
     "text": [
      "原表 attention_detailed_metrics 已删除（如果存在）\n",
      "原表 attention_total_metrics 已删除（如果存在）\n",
      "原表 top_10_attention_projects 已删除（如果存在）\n",
      "表 attention_detailed_metrics 创建成功\n"
     ]
    }
   ],
   "source": [
    "# 同openrank处理情况相同\n",
    "\n",
    "import pymysql\n",
    "import json\n",
    "\n",
    "# 连接到 MySQL 数据库\n",
    "conn = pymysql.connect(\n",
    "    host='localhost',\n",
    "    user='root',\n",
    "    password='cptbtptp789',\n",
    "    database='project_data',\n",
    "    charset='utf8mb4'\n",
    ")\n",
    "\n",
    "cursor = conn.cursor()\n",
    "\n",
    "# 删除相关原表（如果存在）\n",
    "drop_table_query_detailed = \"DROP TABLE IF EXISTS attention_detailed_metrics\"\n",
    "try:\n",
    "    cursor.execute(drop_table_query_detailed)\n",
    "    print(\"原表 attention_detailed_metrics 已删除（如果存在）\")\n",
    "except pymysql.Error as e:\n",
    "    print(f\"删除原表 attention_detailed_metrics 时出错: {e}\")\n",
    "\n",
    "drop_table_query_total = \"DROP TABLE IF EXISTS attention_total_metrics\"\n",
    "try:\n",
    "    cursor.execute(drop_table_query_total)\n",
    "    print(\"原表 attention_total_metrics 已删除（如果存在）\")\n",
    "except pymysql.Error as e:\n",
    "    print(f\"删除原表 attention_total_metrics 时出错: {e}\")\n",
    "\n",
    "drop_table_query_top_10 = \"DROP TABLE IF EXISTS top_10_attention_projects\"\n",
    "try:\n",
    "    cursor.execute(drop_table_query_top_10)\n",
    "    print(\"原表 top_10_attention_projects 已删除（如果存在）\")\n",
    "except pymysql.Error as e:\n",
    "    print(f\"删除原表 top_10_attention_projects 时出错: {e}\")\n",
    "\n",
    "# 创建新表 attention_detailed_metrics\n",
    "create_table_query_detailed = \"\"\"\n",
    "CREATE TABLE IF NOT EXISTS attention_detailed_metrics (\n",
    "    id INT AUTO_INCREMENT PRIMARY KEY,\n",
    "    project_name VARCHAR(255) NOT NULL,\n",
    "    month VARCHAR(7) NOT NULL,\n",
    "    value DECIMAL(10, 2)\n",
    ")\n",
    "\"\"\"\n",
    "try:\n",
    "    cursor.execute(create_table_query_detailed)\n",
    "    print(\"表 attention_detailed_metrics 创建成功\")\n",
    "except pymysql.Error as e:\n",
    "    print(f\"创建表 attention_detailed_metrics 时出错: {e}\")\n",
    "\n",
    "# 从 attention_metrics 表中查询数据\n",
    "select_query_detailed = \"SELECT project_name, metric_value FROM attention_metrics\"\n",
    "cursor.execute(select_query_detailed)\n",
    "\n",
    "# 获取查询结果\n",
    "results_detailed = cursor.fetchall()\n",
    "\n",
    "# 处理并插入数据到 attention_detailed_metrics 表\n",
    "for row in results_detailed:\n",
    "    project_name, metric_value_str = row\n",
    "    metric_value = json.loads(metric_value_str)\n",
    "    for month_key, value in metric_value.items():\n",
    "        if isinstance(value, (int, float)):\n",
    "            month = month_key[:7]\n",
    "            insert_query_detailed = \"INSERT INTO attention_detailed_metrics (project_name, month, value) VALUES (%s, %s, %s)\"\n",
    "            try:\n",
    "                cursor.execute(insert_query_detailed, (project_name, month, value))\n",
    "                conn.commit()\n",
    "            except pymysql.Error as e:\n",
    "                print(f\"插入数据时出错: {e}\")\n",
    "\n"
   ]
  }
 ],
 "metadata": {
  "kernelspec": {
   "display_name": "base",
   "language": "python",
   "name": "python3"
  },
  "language_info": {
   "codemirror_mode": {
    "name": "ipython",
    "version": 3
   },
   "file_extension": ".py",
   "mimetype": "text/x-python",
   "name": "python",
   "nbconvert_exporter": "python",
   "pygments_lexer": "ipython3",
   "version": "3.11.7"
  }
 },
 "nbformat": 4,
 "nbformat_minor": 2
}
